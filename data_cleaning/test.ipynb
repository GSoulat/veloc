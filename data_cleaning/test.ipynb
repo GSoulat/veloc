{
 "cells": [
  {
   "cell_type": "code",
   "execution_count": null,
   "metadata": {},
   "outputs": [],
   "source": [
    "from datetime import datetime, timedelta\n",
    "from pytz import timezone\n",
    "import requests\n",
    "import json\n",
    "import pandas as pd"
   ]
  },
  {
   "cell_type": "code",
   "execution_count": null,
   "metadata": {},
   "outputs": [],
   "source": [
    "api_key = \"1cf4a33bf5ed0e1005a61cb94eded3af\"\n",
    "lat = \"50.62925\"\n",
    "lon = \"3.057256\"\n",
    "url = \"https://api.openweathermap.org/data/2.5/onecall?lat=%s&lon=%s&appid=%s&units=metric\" % (lat, lon, api_key)\n",
    "response = requests.get(url).json()"
   ]
  },
  {
   "cell_type": "code",
   "execution_count": null,
   "metadata": {},
   "outputs": [],
   "source": [
    "response['hourly']"
   ]
  },
  {
   "cell_type": "code",
   "execution_count": null,
   "metadata": {},
   "outputs": [],
   "source": [
    "for data48h in response['hourly']:\n",
    "    print(data48h['dt'])"
   ]
  },
  {
   "cell_type": "code",
   "execution_count": null,
   "metadata": {},
   "outputs": [],
   "source": [
    "data48h"
   ]
  },
  {
   "cell_type": "code",
   "execution_count": null,
   "metadata": {},
   "outputs": [],
   "source": [
    "for data48h in response['hourly']:\n",
    "    for weather in data48h['weather']:\n",
    "        print(weather['main'])"
   ]
  },
  {
   "cell_type": "code",
   "execution_count": null,
   "metadata": {},
   "outputs": [],
   "source": [
    "data48h"
   ]
  },
  {
   "cell_type": "code",
   "execution_count": null,
   "metadata": {},
   "outputs": [],
   "source": [
    "from datetime import datetime\n",
    "import time"
   ]
  },
  {
   "cell_type": "code",
   "execution_count": null,
   "metadata": {},
   "outputs": [],
   "source": [
    "df_data48h = pd.DataFrame(data=response['hourly'])\n",
    "df_data48h"
   ]
  },
  {
   "cell_type": "code",
   "execution_count": null,
   "metadata": {},
   "outputs": [],
   "source": [
    "df = df_data48h.drop(['snow'], axis=1)\n",
    "df"
   ]
  },
  {
   "cell_type": "code",
   "execution_count": null,
   "metadata": {},
   "outputs": [],
   "source": [
    "ts = df_data48h['dt']\n",
    "for correct_data in ts:\n",
    "    print(time.strftime(\"%D %H:%M\", time.localtime(int(correct_data))))"
   ]
  },
  {
   "cell_type": "code",
   "execution_count": null,
   "metadata": {},
   "outputs": [],
   "source": [
    "df_data48h['dt'] = time.strftime(\"%D %H:%M\", time.localtime(int(df_data48h['dt'])))"
   ]
  },
  {
   "cell_type": "code",
   "execution_count": null,
   "metadata": {},
   "outputs": [],
   "source": [
    "df_data48h = df_data48h.drop([\"pressure\",\"dew_point\", \"uvi\", \"clouds\", \"visibility\", \"wind_deg\", \"wind_gust\", \"pop\", \"rain\", \"snow\"], axis=1)\n",
    "df_data48h"
   ]
  },
  {
   "cell_type": "code",
   "execution_count": null,
   "metadata": {},
   "outputs": [],
   "source": [
    "api_key = \"1cf4a33bf5ed0e1005a61cb94eded3af\"\n",
    "lat = \"50.62925\"\n",
    "lon = \"3.057256\"\n",
    "url = \"http://api.openweathermap.org/data/2.5/forecast?lat=%s&lon=%s&appid=%s&units=metric\" % (lat, lon, api_key)\n",
    "response = requests.get(url).json()"
   ]
  },
  {
   "cell_type": "code",
   "execution_count": null,
   "metadata": {},
   "outputs": [],
   "source": [
    "response['list']"
   ]
  },
  {
   "cell_type": "code",
   "execution_count": null,
   "metadata": {},
   "outputs": [],
   "source": [
    "for i in response[\"list\"]:\n",
    "    print(i['dt'])\n",
    "    print(time.strftime(\"%D %H:%M\", time.localtime(int(i['dt']))))\n",
    "    print(i['main']['temp'])"
   ]
  },
  {
   "cell_type": "code",
   "execution_count": null,
   "metadata": {},
   "outputs": [],
   "source": [
    "for z in response[\"list\"]:\n",
    "    print(z['wind']['speed'])"
   ]
  },
  {
   "cell_type": "code",
   "execution_count": null,
   "metadata": {},
   "outputs": [],
   "source": [
    "for z in response[\"list\"]:\n",
    "    for winspeed in z['wind']:\n",
    "        print(winspeed)"
   ]
  },
  {
   "cell_type": "code",
   "execution_count": null,
   "metadata": {},
   "outputs": [],
   "source": [
    "df_data7j = pd.DataFrame(data=response[\"list\"])\n",
    "df_data7j"
   ]
  }
 ],
 "metadata": {
  "interpreter": {
   "hash": "7617a302fc74ed08c2ab778d572ab0b5db7f4442e0cbc08cc9a086756c526eea"
  },
  "kernelspec": {
   "display_name": "Python 3.10.0 ('envweb')",
   "language": "python",
   "name": "python3"
  },
  "language_info": {
   "codemirror_mode": {
    "name": "ipython",
    "version": 3
   },
   "file_extension": ".py",
   "mimetype": "text/x-python",
   "name": "python",
   "nbconvert_exporter": "python",
   "pygments_lexer": "ipython3",
   "version": "3.10.0"
  },
  "orig_nbformat": 4
 },
 "nbformat": 4,
 "nbformat_minor": 2
}
